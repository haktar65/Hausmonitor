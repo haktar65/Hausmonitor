{
 "cells": [
  {
   "cell_type": "markdown",
   "metadata": {
    "isInteractiveWindowMessageCell": true
   },
   "source": [
    "_Connecting to Python 2.7.14..._"
   ]
  },
  {
   "cell_type": "code",
   "execution_count": null,
   "metadata": {},
   "outputs": [],
   "source": [
    "#!/usr/bin/env python\n",
    "\n",
    "import win_inet_pton\n",
    "from pyModbusTCP.client import ModbusClient\n",
    "\n",
    "# c = ModbusClient(host=\"localhost\", port=502, debug=True)\n",
    "c = ModbusClient(host=\"192.168.178.67\", auto_open=False, auto_close=False, debug=True)\n",
    "\n",
    "# open the socket for 2 reads then close it.\n",
    "if c.open():\n",
    "    print \"open\"\n",
    "    c.read_holding_registers(32066, 1)\n",
    "    c.close()\n",
    "    print \"closed\""
   ]
  },
  {
   "cell_type": "markdown",
   "metadata": {
    "isInteractiveWindowMessageCell": true
   },
   "source": [
    "No kernel connected"
   ]
  }
 ],
 "metadata": {
  "kernelspec": {
   "display_name": "Python 3",
   "language": "python",
   "name": "python3"
  },
  "language_info": {
   "name": "python",
   "version": "2.7.14"
  }
 },
 "nbformat": 4,
 "nbformat_minor": 2
}
